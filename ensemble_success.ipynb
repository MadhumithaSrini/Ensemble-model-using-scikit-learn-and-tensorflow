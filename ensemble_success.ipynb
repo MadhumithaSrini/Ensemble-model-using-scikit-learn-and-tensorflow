{
 "cells": [
  {
   "cell_type": "code",
   "execution_count": 1,
   "metadata": {},
   "outputs": [],
   "source": [
    "#importing all the packages \n",
    "import pandas as pd\n",
    "import numpy as np\n",
    "import matplotlib.pyplot as plt\n",
    "import seaborn as sns\n",
    "import warnings\n",
    "warnings.filterwarnings('ignore')"
   ]
  },
  {
   "cell_type": "code",
   "execution_count": 2,
   "metadata": {},
   "outputs": [
    {
     "data": {
      "text/plain": [
       "Index(['Stock Index', 'Index', 'Industry', 'VWAP', 'General Index', 'NAV',\n",
       "       'P/E Ratio', 'Volumes Traded', 'Inventory Turnover',\n",
       "       'Covid Impact (Beta)', 'Tracking Error', 'Dollar Exchange Rate',\n",
       "       'Put-Call Ratio', 'P/B Ratio', 'Stock Price'],\n",
       "      dtype='object')"
      ]
     },
     "execution_count": 2,
     "metadata": {},
     "output_type": "execute_result"
    }
   ],
   "source": [
    "#reading the csv file and finding out the names of the columns\n",
    "df = pd.read_csv(\"C:/Users/madhumitha/Downloads/TrainDatasetStockPrice.csv\")\n",
    "df.columns"
   ]
  },
  {
   "cell_type": "code",
   "execution_count": 3,
   "metadata": {
    "scrolled": true
   },
   "outputs": [
    {
     "data": {
      "text/html": [
       "<div>\n",
       "<style scoped>\n",
       "    .dataframe tbody tr th:only-of-type {\n",
       "        vertical-align: middle;\n",
       "    }\n",
       "\n",
       "    .dataframe tbody tr th {\n",
       "        vertical-align: top;\n",
       "    }\n",
       "\n",
       "    .dataframe thead th {\n",
       "        text-align: right;\n",
       "    }\n",
       "</style>\n",
       "<table border=\"1\" class=\"dataframe\">\n",
       "  <thead>\n",
       "    <tr style=\"text-align: right;\">\n",
       "      <th></th>\n",
       "      <th>Stock Index</th>\n",
       "      <th>Index</th>\n",
       "      <th>Industry</th>\n",
       "      <th>VWAP</th>\n",
       "      <th>General Index</th>\n",
       "      <th>NAV</th>\n",
       "      <th>P/E Ratio</th>\n",
       "      <th>Volumes Traded</th>\n",
       "      <th>Inventory Turnover</th>\n",
       "      <th>Covid Impact (Beta)</th>\n",
       "      <th>Tracking Error</th>\n",
       "      <th>Dollar Exchange Rate</th>\n",
       "      <th>Put-Call Ratio</th>\n",
       "      <th>P/B Ratio</th>\n",
       "      <th>Stock Price</th>\n",
       "    </tr>\n",
       "  </thead>\n",
       "  <tbody>\n",
       "    <tr>\n",
       "      <th>0</th>\n",
       "      <td>AA1</td>\n",
       "      <td>NYSE</td>\n",
       "      <td>Real Estate</td>\n",
       "      <td>700.29</td>\n",
       "      <td>12765.84</td>\n",
       "      <td>32.38</td>\n",
       "      <td>45.35</td>\n",
       "      <td>1208599.0</td>\n",
       "      <td>5.05</td>\n",
       "      <td>-0.43</td>\n",
       "      <td>0.0520</td>\n",
       "      <td>1.0</td>\n",
       "      <td>0.61</td>\n",
       "      <td>9.20</td>\n",
       "      <td>156.987851</td>\n",
       "    </tr>\n",
       "    <tr>\n",
       "      <th>1</th>\n",
       "      <td>AA2</td>\n",
       "      <td>NYSE</td>\n",
       "      <td>Information Tech</td>\n",
       "      <td>214.52</td>\n",
       "      <td>12765.84</td>\n",
       "      <td>33.25</td>\n",
       "      <td>170.56</td>\n",
       "      <td>13753356.0</td>\n",
       "      <td>3.10</td>\n",
       "      <td>0.23</td>\n",
       "      <td>0.0164</td>\n",
       "      <td>1.0</td>\n",
       "      <td>NaN</td>\n",
       "      <td>6.91</td>\n",
       "      <td>560.859622</td>\n",
       "    </tr>\n",
       "    <tr>\n",
       "      <th>2</th>\n",
       "      <td>AA3</td>\n",
       "      <td>NYSE</td>\n",
       "      <td>Information Tech</td>\n",
       "      <td>943.42</td>\n",
       "      <td>12765.84</td>\n",
       "      <td>88.27</td>\n",
       "      <td>143.58</td>\n",
       "      <td>6892003.0</td>\n",
       "      <td>7.70</td>\n",
       "      <td>0.23</td>\n",
       "      <td>0.0396</td>\n",
       "      <td>1.0</td>\n",
       "      <td>NaN</td>\n",
       "      <td>6.09</td>\n",
       "      <td>1279.732874</td>\n",
       "    </tr>\n",
       "    <tr>\n",
       "      <th>3</th>\n",
       "      <td>AA4</td>\n",
       "      <td>BSE</td>\n",
       "      <td>Materials</td>\n",
       "      <td>828.13</td>\n",
       "      <td>38182.08</td>\n",
       "      <td>73.66</td>\n",
       "      <td>151.76</td>\n",
       "      <td>8316793.0</td>\n",
       "      <td>4.80</td>\n",
       "      <td>0.03</td>\n",
       "      <td>0.0431</td>\n",
       "      <td>74.9</td>\n",
       "      <td>1.11</td>\n",
       "      <td>5.60</td>\n",
       "      <td>1121.787632</td>\n",
       "    </tr>\n",
       "    <tr>\n",
       "      <th>4</th>\n",
       "      <td>AA5</td>\n",
       "      <td>S&amp;P 500</td>\n",
       "      <td>Real Estate</td>\n",
       "      <td>NaN</td>\n",
       "      <td>3351.28</td>\n",
       "      <td>23.79</td>\n",
       "      <td>NaN</td>\n",
       "      <td>3943312.0</td>\n",
       "      <td>8.06</td>\n",
       "      <td>-0.43</td>\n",
       "      <td>0.0244</td>\n",
       "      <td>1.0</td>\n",
       "      <td>1.07</td>\n",
       "      <td>9.46</td>\n",
       "      <td>382.962534</td>\n",
       "    </tr>\n",
       "  </tbody>\n",
       "</table>\n",
       "</div>"
      ],
      "text/plain": [
       "  Stock Index    Index          Industry    VWAP  General Index    NAV  \\\n",
       "0         AA1     NYSE       Real Estate  700.29       12765.84  32.38   \n",
       "1         AA2     NYSE  Information Tech  214.52       12765.84  33.25   \n",
       "2         AA3     NYSE  Information Tech  943.42       12765.84  88.27   \n",
       "3         AA4      BSE         Materials  828.13       38182.08  73.66   \n",
       "4         AA5  S&P 500       Real Estate     NaN        3351.28  23.79   \n",
       "\n",
       "   P/E Ratio  Volumes Traded  Inventory Turnover  Covid Impact (Beta)  \\\n",
       "0      45.35       1208599.0                5.05                -0.43   \n",
       "1     170.56      13753356.0                3.10                 0.23   \n",
       "2     143.58       6892003.0                7.70                 0.23   \n",
       "3     151.76       8316793.0                4.80                 0.03   \n",
       "4        NaN       3943312.0                8.06                -0.43   \n",
       "\n",
       "   Tracking Error  Dollar Exchange Rate  Put-Call Ratio  P/B Ratio  \\\n",
       "0          0.0520                   1.0            0.61       9.20   \n",
       "1          0.0164                   1.0             NaN       6.91   \n",
       "2          0.0396                   1.0             NaN       6.09   \n",
       "3          0.0431                  74.9            1.11       5.60   \n",
       "4          0.0244                   1.0            1.07       9.46   \n",
       "\n",
       "   Stock Price  \n",
       "0   156.987851  \n",
       "1   560.859622  \n",
       "2  1279.732874  \n",
       "3  1121.787632  \n",
       "4   382.962534  "
      ]
     },
     "execution_count": 3,
     "metadata": {},
     "output_type": "execute_result"
    }
   ],
   "source": [
    "df.head()"
   ]
  },
  {
   "cell_type": "code",
   "execution_count": 4,
   "metadata": {},
   "outputs": [
    {
     "data": {
      "text/plain": [
       "Index(['Stock Index', 'Index', 'Industry', 'VWAP', 'General Index', 'NAV',\n",
       "       'P/E Ratio', 'Volumes Traded', 'Inventory Turnover',\n",
       "       'Covid Impact (Beta)', 'Tracking Error', 'Dollar Exchange Rate',\n",
       "       'Put-Call Ratio', 'P/B Ratio', 'Stock Price'],\n",
       "      dtype='object')"
      ]
     },
     "execution_count": 4,
     "metadata": {},
     "output_type": "execute_result"
    }
   ],
   "source": [
    "#importind the test dataset\n",
    "df_test = pd.read_csv(\"C:/Users/madhumitha/Downloads/TestDatasetStockPrice.csv\")\n",
    "df.columns"
   ]
  },
  {
   "cell_type": "code",
   "execution_count": 5,
   "metadata": {},
   "outputs": [
    {
     "data": {
      "text/plain": [
       "Stock Index               0\n",
       "Index                     0\n",
       "Industry                  0\n",
       "VWAP                     38\n",
       "General Index            62\n",
       "NAV                      61\n",
       "P/E Ratio               234\n",
       "Volumes Traded          268\n",
       "Inventory Turnover      399\n",
       "Covid Impact (Beta)     376\n",
       "Tracking Error           71\n",
       "Dollar Exchange Rate     77\n",
       "Put-Call Ratio           85\n",
       "P/B Ratio                25\n",
       "Stock Price               0\n",
       "dtype: int64"
      ]
     },
     "execution_count": 5,
     "metadata": {},
     "output_type": "execute_result"
    }
   ],
   "source": [
    "#chcking for null values\n",
    "df.isnull().sum()"
   ]
  },
  {
   "cell_type": "code",
   "execution_count": 6,
   "metadata": {},
   "outputs": [
    {
     "data": {
      "text/plain": [
       "<matplotlib.axes._subplots.AxesSubplot at 0x1fad437d7f0>"
      ]
     },
     "execution_count": 6,
     "metadata": {},
     "output_type": "execute_result"
    },
    {
     "data": {
      "image/png": "[encoded data removed]",
      "text/plain": [
       "<Figure size 432x288 with 2 Axes>"
      ]
     },
     "metadata": {
      "needs_background": "light"
     },
     "output_type": "display_data"
    }
   ],
   "source": [
    "#checking for correlation\n",
    "corr_df=df.corr()\n",
    "corr_df\n",
    "sns.heatmap(corr_df)"
   ]
  },
  {
   "cell_type": "code",
   "execution_count": 7,
   "metadata": {},
   "outputs": [],
   "source": [
    "#imputing null values\n",
    "df[\"Inventory Turnover\"].fillna(df[\"Inventory Turnover\"].mean(), inplace=True)\n",
    "df[\"Covid Impact (Beta)\"].fillna(df[\"Covid Impact (Beta)\"].mean(), inplace=True)\n",
    "df[\"P/E Ratio\"].fillna(df[\"P/E Ratio\"].mean(), inplace=True)\n",
    "df[\"NAV\"].fillna(df[\"NAV\"].mean(), inplace=True)"
   ]
  },
  {
   "cell_type": "code",
   "execution_count": 8,
   "metadata": {},
   "outputs": [],
   "source": [
    "#final cleaning of training data\n",
    "df= df.dropna()\n",
    "df = df.replace([np.inf, -np.inf], np.nan)\n",
    "df = df.dropna()"
   ]
  },
  {
   "cell_type": "code",
   "execution_count": 9,
   "metadata": {},
   "outputs": [],
   "source": [
    "df = df.drop(columns = ['Stock Index', 'Index'])"
   ]
  },
  {
   "cell_type": "code",
   "execution_count": 10,
   "metadata": {},
   "outputs": [],
   "source": [
    "#cleaning test data\n",
    "df_test = df_test.dropna()\n",
    "df_test = df_test.replace([np.inf, -np.inf], np.nan)\n",
    "df_test = df_test.dropna()"
   ]
  },
  {
   "cell_type": "code",
   "execution_count": 11,
   "metadata": {},
   "outputs": [
    {
     "name": "stdout",
     "output_type": "stream",
     "text": [
      "[Real Estate, Materials, Materials, Healthcare, Materials, ..., Materials, Healthcare, Materials, Materials, Materials]\n",
      "Length: 6934\n",
      "Categories (5, object): [Energy, Healthcare, Information Tech, Materials, Real Estate]\n",
      "\n"
     ]
    }
   ],
   "source": [
    "print(pd.Categorical(df['Industry']),end=\"\\n\\n\")\n",
    "\n",
    "df['Industry'] = df['Industry'].astype('category')\n",
    "cat_columns = df.select_dtypes(['category']).columns\n",
    "df[cat_columns] = df[cat_columns].apply(lambda x: x.cat.codes)"
   ]
  },
  {
   "cell_type": "code",
   "execution_count": 12,
   "metadata": {},
   "outputs": [
    {
     "data": {
      "text/plain": [
       "Index(['Industry', 'VWAP', 'General Index', 'NAV', 'P/E Ratio',\n",
       "       'Volumes Traded', 'Inventory Turnover', 'Covid Impact (Beta)',\n",
       "       'Tracking Error', 'Dollar Exchange Rate', 'Put-Call Ratio', 'P/B Ratio',\n",
       "       'Stock Price'],\n",
       "      dtype='object')"
      ]
     },
     "execution_count": 12,
     "metadata": {},
     "output_type": "execute_result"
    }
   ],
   "source": [
    "df.columns"
   ]
  },
  {
   "cell_type": "code",
   "execution_count": 13,
   "metadata": {},
   "outputs": [
    {
     "data": {
      "text/html": [
       "<div>\n",
       "<style scoped>\n",
       "    .dataframe tbody tr th:only-of-type {\n",
       "        vertical-align: middle;\n",
       "    }\n",
       "\n",
       "    .dataframe tbody tr th {\n",
       "        vertical-align: top;\n",
       "    }\n",
       "\n",
       "    .dataframe thead th {\n",
       "        text-align: right;\n",
       "    }\n",
       "</style>\n",
       "<table border=\"1\" class=\"dataframe\">\n",
       "  <thead>\n",
       "    <tr style=\"text-align: right;\">\n",
       "      <th></th>\n",
       "      <th>count</th>\n",
       "      <th>mean</th>\n",
       "      <th>std</th>\n",
       "      <th>min</th>\n",
       "      <th>25%</th>\n",
       "      <th>50%</th>\n",
       "      <th>75%</th>\n",
       "      <th>max</th>\n",
       "    </tr>\n",
       "  </thead>\n",
       "  <tbody>\n",
       "    <tr>\n",
       "      <th>Industry</th>\n",
       "      <td>6934.0</td>\n",
       "      <td>2.004038e+00</td>\n",
       "      <td>1.421634e+00</td>\n",
       "      <td>0.000000</td>\n",
       "      <td>1.000000e+00</td>\n",
       "      <td>2.000000e+00</td>\n",
       "      <td>3.000000e+00</td>\n",
       "      <td>4.000000e+00</td>\n",
       "    </tr>\n",
       "    <tr>\n",
       "      <th>VWAP</th>\n",
       "      <td>6934.0</td>\n",
       "      <td>4.865111e+02</td>\n",
       "      <td>2.778496e+02</td>\n",
       "      <td>5.310000</td>\n",
       "      <td>2.486050e+02</td>\n",
       "      <td>4.888000e+02</td>\n",
       "      <td>7.243525e+02</td>\n",
       "      <td>9.652100e+02</td>\n",
       "    </tr>\n",
       "    <tr>\n",
       "      <th>General Index</th>\n",
       "      <td>6934.0</td>\n",
       "      <td>2.423112e+04</td>\n",
       "      <td>1.958719e+04</td>\n",
       "      <td>3351.280000</td>\n",
       "      <td>1.127015e+04</td>\n",
       "      <td>1.276584e+04</td>\n",
       "      <td>3.818208e+04</td>\n",
       "      <td>5.572200e+04</td>\n",
       "    </tr>\n",
       "    <tr>\n",
       "      <th>NAV</th>\n",
       "      <td>6934.0</td>\n",
       "      <td>5.469885e+01</td>\n",
       "      <td>2.577081e+01</td>\n",
       "      <td>10.010000</td>\n",
       "      <td>3.283500e+01</td>\n",
       "      <td>5.459000e+01</td>\n",
       "      <td>7.716000e+01</td>\n",
       "      <td>9.998000e+01</td>\n",
       "    </tr>\n",
       "    <tr>\n",
       "      <th>P/E Ratio</th>\n",
       "      <td>6934.0</td>\n",
       "      <td>1.056640e+02</td>\n",
       "      <td>5.518396e+01</td>\n",
       "      <td>10.020000</td>\n",
       "      <td>5.794500e+01</td>\n",
       "      <td>1.055436e+02</td>\n",
       "      <td>1.540600e+02</td>\n",
       "      <td>1.999700e+02</td>\n",
       "    </tr>\n",
       "    <tr>\n",
       "      <th>Volumes Traded</th>\n",
       "      <td>6934.0</td>\n",
       "      <td>1.043331e+07</td>\n",
       "      <td>5.693506e+06</td>\n",
       "      <td>529117.000000</td>\n",
       "      <td>5.583961e+06</td>\n",
       "      <td>1.049503e+07</td>\n",
       "      <td>1.532481e+07</td>\n",
       "      <td>2.015445e+07</td>\n",
       "    </tr>\n",
       "    <tr>\n",
       "      <th>Inventory Turnover</th>\n",
       "      <td>6934.0</td>\n",
       "      <td>5.438351e+00</td>\n",
       "      <td>1.620792e+00</td>\n",
       "      <td>2.560000</td>\n",
       "      <td>4.080000e+00</td>\n",
       "      <td>5.436840e+00</td>\n",
       "      <td>6.800000e+00</td>\n",
       "      <td>8.330000e+00</td>\n",
       "    </tr>\n",
       "    <tr>\n",
       "      <th>Covid Impact (Beta)</th>\n",
       "      <td>6934.0</td>\n",
       "      <td>1.403286e-01</td>\n",
       "      <td>3.773571e-01</td>\n",
       "      <td>-0.430000</td>\n",
       "      <td>3.000000e-02</td>\n",
       "      <td>1.100000e-01</td>\n",
       "      <td>2.300000e-01</td>\n",
       "      <td>7.800000e-01</td>\n",
       "    </tr>\n",
       "    <tr>\n",
       "      <th>Tracking Error</th>\n",
       "      <td>6934.0</td>\n",
       "      <td>3.854407e-02</td>\n",
       "      <td>1.340733e-02</td>\n",
       "      <td>0.015200</td>\n",
       "      <td>2.690000e-02</td>\n",
       "      <td>3.850000e-02</td>\n",
       "      <td>5.030000e-02</td>\n",
       "      <td>6.150000e-02</td>\n",
       "    </tr>\n",
       "    <tr>\n",
       "      <th>Dollar Exchange Rate</th>\n",
       "      <td>6934.0</td>\n",
       "      <td>3.404913e+01</td>\n",
       "      <td>3.405074e+01</td>\n",
       "      <td>1.000000</td>\n",
       "      <td>1.000000e+00</td>\n",
       "      <td>1.770000e+01</td>\n",
       "      <td>7.490000e+01</td>\n",
       "      <td>7.490000e+01</td>\n",
       "    </tr>\n",
       "    <tr>\n",
       "      <th>Put-Call Ratio</th>\n",
       "      <td>6934.0</td>\n",
       "      <td>9.446351e-01</td>\n",
       "      <td>2.025561e-01</td>\n",
       "      <td>0.600000</td>\n",
       "      <td>7.700000e-01</td>\n",
       "      <td>9.400000e-01</td>\n",
       "      <td>1.120000e+00</td>\n",
       "      <td>1.290000e+00</td>\n",
       "    </tr>\n",
       "    <tr>\n",
       "      <th>P/B Ratio</th>\n",
       "      <td>6934.0</td>\n",
       "      <td>5.006684e+00</td>\n",
       "      <td>2.625277e+00</td>\n",
       "      <td>0.450000</td>\n",
       "      <td>2.760000e+00</td>\n",
       "      <td>5.040000e+00</td>\n",
       "      <td>7.230000e+00</td>\n",
       "      <td>9.560000e+00</td>\n",
       "    </tr>\n",
       "    <tr>\n",
       "      <th>Stock Price</th>\n",
       "      <td>6934.0</td>\n",
       "      <td>5.696581e+02</td>\n",
       "      <td>4.223690e+02</td>\n",
       "      <td>10.573482</td>\n",
       "      <td>2.242255e+02</td>\n",
       "      <td>4.608290e+02</td>\n",
       "      <td>8.279308e+02</td>\n",
       "      <td>1.970401e+03</td>\n",
       "    </tr>\n",
       "  </tbody>\n",
       "</table>\n",
       "</div>"
      ],
      "text/plain": [
       "                       count          mean           std            min  \\\n",
       "Industry              6934.0  2.004038e+00  1.421634e+00       0.000000   \n",
       "VWAP                  6934.0  4.865111e+02  2.778496e+02       5.310000   \n",
       "General Index         6934.0  2.423112e+04  1.958719e+04    3351.280000   \n",
       "NAV                   6934.0  5.469885e+01  2.577081e+01      10.010000   \n",
       "P/E Ratio             6934.0  1.056640e+02  5.518396e+01      10.020000   \n",
       "Volumes Traded        6934.0  1.043331e+07  5.693506e+06  529117.000000   \n",
       "Inventory Turnover    6934.0  5.438351e+00  1.620792e+00       2.560000   \n",
       "Covid Impact (Beta)   6934.0  1.403286e-01  3.773571e-01      -0.430000   \n",
       "Tracking Error        6934.0  3.854407e-02  1.340733e-02       0.015200   \n",
       "Dollar Exchange Rate  6934.0  3.404913e+01  3.405074e+01       1.000000   \n",
       "Put-Call Ratio        6934.0  9.446351e-01  2.025561e-01       0.600000   \n",
       "P/B Ratio             6934.0  5.006684e+00  2.625277e+00       0.450000   \n",
       "Stock Price           6934.0  5.696581e+02  4.223690e+02      10.573482   \n",
       "\n",
       "                               25%           50%           75%           max  \n",
       "Industry              1.000000e+00  2.000000e+00  3.000000e+00  4.000000e+00  \n",
       "VWAP                  2.486050e+02  4.888000e+02  7.243525e+02  9.652100e+02  \n",
       "General Index         1.127015e+04  1.276584e+04  3.818208e+04  5.572200e+04  \n",
       "NAV                   3.283500e+01  5.459000e+01  7.716000e+01  9.998000e+01  \n",
       "P/E Ratio             5.794500e+01  1.055436e+02  1.540600e+02  1.999700e+02  \n",
       "Volumes Traded        5.583961e+06  1.049503e+07  1.532481e+07  2.015445e+07  \n",
       "Inventory Turnover    4.080000e+00  5.436840e+00  6.800000e+00  8.330000e+00  \n",
       "Covid Impact (Beta)   3.000000e-02  1.100000e-01  2.300000e-01  7.800000e-01  \n",
       "Tracking Error        2.690000e-02  3.850000e-02  5.030000e-02  6.150000e-02  \n",
       "Dollar Exchange Rate  1.000000e+00  1.770000e+01  7.490000e+01  7.490000e+01  \n",
       "Put-Call Ratio        7.700000e-01  9.400000e-01  1.120000e+00  1.290000e+00  \n",
       "P/B Ratio             2.760000e+00  5.040000e+00  7.230000e+00  9.560000e+00  \n",
       "Stock Price           2.242255e+02  4.608290e+02  8.279308e+02  1.970401e+03  "
      ]
     },
     "execution_count": 13,
     "metadata": {},
     "output_type": "execute_result"
    }
   ],
   "source": [
    "df_stats = df.describe()\n",
    "df_stats= df_stats.transpose()\n",
    "df_stats"
   ]
  },
  {
   "cell_type": "code",
   "execution_count": 14,
   "metadata": {},
   "outputs": [
    {
     "data": {
      "text/plain": [
       "Industry                2.004038e+00\n",
       "VWAP                    4.865111e+02\n",
       "General Index           2.423112e+04\n",
       "NAV                     5.469885e+01\n",
       "P/E Ratio               1.056640e+02\n",
       "Volumes Traded          1.043331e+07\n",
       "Inventory Turnover      5.438351e+00\n",
       "Covid Impact (Beta)     1.403286e-01\n",
       "Tracking Error          3.854407e-02\n",
       "Dollar Exchange Rate    3.404913e+01\n",
       "Put-Call Ratio          9.446351e-01\n",
       "P/B Ratio               5.006684e+00\n",
       "Stock Price             5.696581e+02\n",
       "Name: mean, dtype: float64"
      ]
     },
     "execution_count": 14,
     "metadata": {},
     "output_type": "execute_result"
    }
   ],
   "source": [
    "df_stats['mean']"
   ]
  },
  {
   "cell_type": "code",
   "execution_count": 15,
   "metadata": {},
   "outputs": [],
   "source": [
    "df_norm = (df - df.mean()) / df.std()"
   ]
  },
  {
   "cell_type": "code",
   "execution_count": 16,
   "metadata": {},
   "outputs": [
    {
     "name": "stdout",
     "output_type": "stream",
     "text": [
      "(6934, 12)\n",
      "(6934,)\n"
     ]
    }
   ],
   "source": [
    "#featurisation\n",
    "x = df[['Industry', 'VWAP', 'General Index', 'NAV',\n",
    "       'P/E Ratio', 'Volumes Traded', 'Inventory Turnover',\n",
    "       'Covid Impact (Beta)', 'Tracking Error', 'Dollar Exchange Rate',\n",
    "       'Put-Call Ratio', 'P/B Ratio']]\n",
    "y = df['Stock Price']\n",
    "#np.reshape(y,2103,1)\n",
    "print(x.shape)\n",
    "print(y.shape)"
   ]
  },
  {
   "cell_type": "code",
   "execution_count": 17,
   "metadata": {},
   "outputs": [],
   "source": [
    "y_mean = df['Stock Price'].mean()\n",
    "y_std = df['Stock Price'].std()\n",
    "\n",
    "def convert_label_value(pred):\n",
    "    return int(pred * y_std + y_mean)"
   ]
  },
  {
   "cell_type": "code",
   "execution_count": 18,
   "metadata": {},
   "outputs": [
    {
     "data": {
      "text/html": [
       "<div>\n",
       "<style scoped>\n",
       "    .dataframe tbody tr th:only-of-type {\n",
       "        vertical-align: middle;\n",
       "    }\n",
       "\n",
       "    .dataframe tbody tr th {\n",
       "        vertical-align: top;\n",
       "    }\n",
       "\n",
       "    .dataframe thead th {\n",
       "        text-align: right;\n",
       "    }\n",
       "</style>\n",
       "<table border=\"1\" class=\"dataframe\">\n",
       "  <thead>\n",
       "    <tr style=\"text-align: right;\">\n",
       "      <th></th>\n",
       "      <th>Industry</th>\n",
       "      <th>VWAP</th>\n",
       "      <th>General Index</th>\n",
       "      <th>NAV</th>\n",
       "      <th>P/E Ratio</th>\n",
       "      <th>Volumes Traded</th>\n",
       "      <th>Inventory Turnover</th>\n",
       "      <th>Covid Impact (Beta)</th>\n",
       "      <th>Tracking Error</th>\n",
       "      <th>Dollar Exchange Rate</th>\n",
       "      <th>Put-Call Ratio</th>\n",
       "      <th>P/B Ratio</th>\n",
       "      <th>Stock Price</th>\n",
       "    </tr>\n",
       "  </thead>\n",
       "  <tbody>\n",
       "    <tr>\n",
       "      <th>0</th>\n",
       "      <td>1.403992</td>\n",
       "      <td>0.769405</td>\n",
       "      <td>-0.585346</td>\n",
       "      <td>-0.866052</td>\n",
       "      <td>-1.092963</td>\n",
       "      <td>-1.620216</td>\n",
       "      <td>-0.239606</td>\n",
       "      <td>-1.511376</td>\n",
       "      <td>1.003625</td>\n",
       "      <td>-0.970585</td>\n",
       "      <td>-1.652062</td>\n",
       "      <td>1.597285</td>\n",
       "      <td>-0.977037</td>\n",
       "    </tr>\n",
       "    <tr>\n",
       "      <th>3</th>\n",
       "      <td>0.700576</td>\n",
       "      <td>1.229510</td>\n",
       "      <td>0.712249</td>\n",
       "      <td>0.735761</td>\n",
       "      <td>0.835314</td>\n",
       "      <td>-0.371742</td>\n",
       "      <td>-0.393851</td>\n",
       "      <td>-0.292372</td>\n",
       "      <td>0.339809</td>\n",
       "      <td>1.199706</td>\n",
       "      <td>0.816391</td>\n",
       "      <td>0.226001</td>\n",
       "      <td>1.307221</td>\n",
       "    </tr>\n",
       "    <tr>\n",
       "      <th>5</th>\n",
       "      <td>0.700576</td>\n",
       "      <td>-0.816633</td>\n",
       "      <td>0.712249</td>\n",
       "      <td>-1.710030</td>\n",
       "      <td>0.858691</td>\n",
       "      <td>1.550988</td>\n",
       "      <td>1.605172</td>\n",
       "      <td>-0.292372</td>\n",
       "      <td>-0.309090</td>\n",
       "      <td>1.199706</td>\n",
       "      <td>1.013867</td>\n",
       "      <td>0.191719</td>\n",
       "      <td>-0.973014</td>\n",
       "    </tr>\n",
       "    <tr>\n",
       "      <th>6</th>\n",
       "      <td>-0.706257</td>\n",
       "      <td>0.535753</td>\n",
       "      <td>-0.585346</td>\n",
       "      <td>0.485477</td>\n",
       "      <td>-1.377829</td>\n",
       "      <td>-0.587899</td>\n",
       "      <td>0.266320</td>\n",
       "      <td>1.695135</td>\n",
       "      <td>-1.487550</td>\n",
       "      <td>-0.970585</td>\n",
       "      <td>-0.960895</td>\n",
       "      <td>1.368738</td>\n",
       "      <td>-0.852364</td>\n",
       "    </tr>\n",
       "    <tr>\n",
       "      <th>8</th>\n",
       "      <td>0.700576</td>\n",
       "      <td>1.671044</td>\n",
       "      <td>-0.661706</td>\n",
       "      <td>-0.900199</td>\n",
       "      <td>0.977022</td>\n",
       "      <td>-1.593445</td>\n",
       "      <td>-1.677175</td>\n",
       "      <td>-0.292372</td>\n",
       "      <td>1.108045</td>\n",
       "      <td>1.199706</td>\n",
       "      <td>1.359450</td>\n",
       "      <td>0.553586</td>\n",
       "      <td>-0.131206</td>\n",
       "    </tr>\n",
       "  </tbody>\n",
       "</table>\n",
       "</div>"
      ],
      "text/plain": [
       "   Industry      VWAP  General Index       NAV  P/E Ratio  Volumes Traded  \\\n",
       "0  1.403992  0.769405      -0.585346 -0.866052  -1.092963       -1.620216   \n",
       "3  0.700576  1.229510       0.712249  0.735761   0.835314       -0.371742   \n",
       "5  0.700576 -0.816633       0.712249 -1.710030   0.858691        1.550988   \n",
       "6 -0.706257  0.535753      -0.585346  0.485477  -1.377829       -0.587899   \n",
       "8  0.700576  1.671044      -0.661706 -0.900199   0.977022       -1.593445   \n",
       "\n",
       "   Inventory Turnover  Covid Impact (Beta)  Tracking Error  \\\n",
       "0           -0.239606            -1.511376        1.003625   \n",
       "3           -0.393851            -0.292372        0.339809   \n",
       "5            1.605172            -0.292372       -0.309090   \n",
       "6            0.266320             1.695135       -1.487550   \n",
       "8           -1.677175            -0.292372        1.108045   \n",
       "\n",
       "   Dollar Exchange Rate  Put-Call Ratio  P/B Ratio  Stock Price  \n",
       "0             -0.970585       -1.652062   1.597285    -0.977037  \n",
       "3              1.199706        0.816391   0.226001     1.307221  \n",
       "5              1.199706        1.013867   0.191719    -0.973014  \n",
       "6             -0.970585       -0.960895   1.368738    -0.852364  \n",
       "8              1.199706        1.359450   0.553586    -0.131206  "
      ]
     },
     "execution_count": 18,
     "metadata": {},
     "output_type": "execute_result"
    }
   ],
   "source": [
    "df_norm.head()"
   ]
  },
  {
   "cell_type": "code",
   "execution_count": 19,
   "metadata": {},
   "outputs": [
    {
     "name": "stdout",
     "output_type": "stream",
     "text": [
      "(6934, 12)\n",
      "(6934,)\n"
     ]
    }
   ],
   "source": [
    "#featurisation\n",
    "x_norm = df_norm[['Industry', 'VWAP', 'General Index', 'NAV',\n",
    "       'P/E Ratio', 'Volumes Traded', 'Inventory Turnover',\n",
    "       'Covid Impact (Beta)', 'Tracking Error', 'Dollar Exchange Rate',\n",
    "       'Put-Call Ratio', 'P/B Ratio']]\n",
    "y_norm = df_norm['Stock Price']\n",
    "#np.reshape(y,2103,1)\n",
    "print(x.shape)\n",
    "print(y.shape)"
   ]
  },
  {
   "cell_type": "code",
   "execution_count": 20,
   "metadata": {
    "scrolled": false
   },
   "outputs": [
    {
     "data": {
      "text/html": [
       "<div>\n",
       "<style scoped>\n",
       "    .dataframe tbody tr th:only-of-type {\n",
       "        vertical-align: middle;\n",
       "    }\n",
       "\n",
       "    .dataframe tbody tr th {\n",
       "        vertical-align: top;\n",
       "    }\n",
       "\n",
       "    .dataframe thead th {\n",
       "        text-align: right;\n",
       "    }\n",
       "</style>\n",
       "<table border=\"1\" class=\"dataframe\">\n",
       "  <thead>\n",
       "    <tr style=\"text-align: right;\">\n",
       "      <th></th>\n",
       "      <th>Industry</th>\n",
       "      <th>VWAP</th>\n",
       "      <th>General Index</th>\n",
       "      <th>NAV</th>\n",
       "      <th>P/E Ratio</th>\n",
       "      <th>Volumes Traded</th>\n",
       "      <th>Inventory Turnover</th>\n",
       "      <th>Covid Impact (Beta)</th>\n",
       "      <th>Tracking Error</th>\n",
       "      <th>Dollar Exchange Rate</th>\n",
       "      <th>Put-Call Ratio</th>\n",
       "      <th>P/B Ratio</th>\n",
       "    </tr>\n",
       "  </thead>\n",
       "  <tbody>\n",
       "    <tr>\n",
       "      <th>0</th>\n",
       "      <td>1.403992</td>\n",
       "      <td>0.769405</td>\n",
       "      <td>-0.585346</td>\n",
       "      <td>-0.866052</td>\n",
       "      <td>-1.092963</td>\n",
       "      <td>-1.620216</td>\n",
       "      <td>-0.239606</td>\n",
       "      <td>-1.511376</td>\n",
       "      <td>1.003625</td>\n",
       "      <td>-0.970585</td>\n",
       "      <td>-1.652062</td>\n",
       "      <td>1.597285</td>\n",
       "    </tr>\n",
       "    <tr>\n",
       "      <th>3</th>\n",
       "      <td>0.700576</td>\n",
       "      <td>1.229510</td>\n",
       "      <td>0.712249</td>\n",
       "      <td>0.735761</td>\n",
       "      <td>0.835314</td>\n",
       "      <td>-0.371742</td>\n",
       "      <td>-0.393851</td>\n",
       "      <td>-0.292372</td>\n",
       "      <td>0.339809</td>\n",
       "      <td>1.199706</td>\n",
       "      <td>0.816391</td>\n",
       "      <td>0.226001</td>\n",
       "    </tr>\n",
       "    <tr>\n",
       "      <th>5</th>\n",
       "      <td>0.700576</td>\n",
       "      <td>-0.816633</td>\n",
       "      <td>0.712249</td>\n",
       "      <td>-1.710030</td>\n",
       "      <td>0.858691</td>\n",
       "      <td>1.550988</td>\n",
       "      <td>1.605172</td>\n",
       "      <td>-0.292372</td>\n",
       "      <td>-0.309090</td>\n",
       "      <td>1.199706</td>\n",
       "      <td>1.013867</td>\n",
       "      <td>0.191719</td>\n",
       "    </tr>\n",
       "    <tr>\n",
       "      <th>6</th>\n",
       "      <td>-0.706257</td>\n",
       "      <td>0.535753</td>\n",
       "      <td>-0.585346</td>\n",
       "      <td>0.485477</td>\n",
       "      <td>-1.377829</td>\n",
       "      <td>-0.587899</td>\n",
       "      <td>0.266320</td>\n",
       "      <td>1.695135</td>\n",
       "      <td>-1.487550</td>\n",
       "      <td>-0.970585</td>\n",
       "      <td>-0.960895</td>\n",
       "      <td>1.368738</td>\n",
       "    </tr>\n",
       "    <tr>\n",
       "      <th>8</th>\n",
       "      <td>0.700576</td>\n",
       "      <td>1.671044</td>\n",
       "      <td>-0.661706</td>\n",
       "      <td>-0.900199</td>\n",
       "      <td>0.977022</td>\n",
       "      <td>-1.593445</td>\n",
       "      <td>-1.677175</td>\n",
       "      <td>-0.292372</td>\n",
       "      <td>1.108045</td>\n",
       "      <td>1.199706</td>\n",
       "      <td>1.359450</td>\n",
       "      <td>0.553586</td>\n",
       "    </tr>\n",
       "    <tr>\n",
       "      <th>...</th>\n",
       "      <td>...</td>\n",
       "      <td>...</td>\n",
       "      <td>...</td>\n",
       "      <td>...</td>\n",
       "      <td>...</td>\n",
       "      <td>...</td>\n",
       "      <td>...</td>\n",
       "      <td>...</td>\n",
       "      <td>...</td>\n",
       "      <td>...</td>\n",
       "      <td>...</td>\n",
       "      <td>...</td>\n",
       "    </tr>\n",
       "    <tr>\n",
       "      <th>7353</th>\n",
       "      <td>0.700576</td>\n",
       "      <td>0.824723</td>\n",
       "      <td>-1.065994</td>\n",
       "      <td>-0.502074</td>\n",
       "      <td>-1.314405</td>\n",
       "      <td>0.109824</td>\n",
       "      <td>-1.498250</td>\n",
       "      <td>-0.292372</td>\n",
       "      <td>-0.883403</td>\n",
       "      <td>-0.970585</td>\n",
       "      <td>1.705033</td>\n",
       "      <td>0.477403</td>\n",
       "    </tr>\n",
       "    <tr>\n",
       "      <th>7354</th>\n",
       "      <td>-0.706257</td>\n",
       "      <td>1.117867</td>\n",
       "      <td>-0.661706</td>\n",
       "      <td>-1.540070</td>\n",
       "      <td>-1.437810</td>\n",
       "      <td>1.196982</td>\n",
       "      <td>1.580492</td>\n",
       "      <td>1.695135</td>\n",
       "      <td>0.116050</td>\n",
       "      <td>1.199706</td>\n",
       "      <td>1.013867</td>\n",
       "      <td>1.037344</td>\n",
       "    </tr>\n",
       "    <tr>\n",
       "      <th>7355</th>\n",
       "      <td>0.700576</td>\n",
       "      <td>0.451463</td>\n",
       "      <td>-0.661706</td>\n",
       "      <td>-1.720507</td>\n",
       "      <td>0.714446</td>\n",
       "      <td>0.376100</td>\n",
       "      <td>-0.165568</td>\n",
       "      <td>-0.292372</td>\n",
       "      <td>1.667441</td>\n",
       "      <td>1.199706</td>\n",
       "      <td>0.618914</td>\n",
       "      <td>0.096491</td>\n",
       "    </tr>\n",
       "    <tr>\n",
       "      <th>7356</th>\n",
       "      <td>0.700576</td>\n",
       "      <td>-0.550014</td>\n",
       "      <td>1.607728</td>\n",
       "      <td>-0.132276</td>\n",
       "      <td>-1.005075</td>\n",
       "      <td>1.482633</td>\n",
       "      <td>-0.313644</td>\n",
       "      <td>-0.292372</td>\n",
       "      <td>0.832077</td>\n",
       "      <td>-0.480140</td>\n",
       "      <td>-1.503954</td>\n",
       "      <td>-1.396685</td>\n",
       "    </tr>\n",
       "    <tr>\n",
       "      <th>7357</th>\n",
       "      <td>0.700576</td>\n",
       "      <td>-1.590864</td>\n",
       "      <td>-1.065994</td>\n",
       "      <td>1.060935</td>\n",
       "      <td>1.460677</td>\n",
       "      <td>1.083125</td>\n",
       "      <td>0.007187</td>\n",
       "      <td>-0.292372</td>\n",
       "      <td>0.265223</td>\n",
       "      <td>-0.970585</td>\n",
       "      <td>0.322700</td>\n",
       "      <td>0.957352</td>\n",
       "    </tr>\n",
       "  </tbody>\n",
       "</table>\n",
       "<p>6934 rows × 12 columns</p>\n",
       "</div>"
      ],
      "text/plain": [
       "      Industry      VWAP  General Index       NAV  P/E Ratio  Volumes Traded  \\\n",
       "0     1.403992  0.769405      -0.585346 -0.866052  -1.092963       -1.620216   \n",
       "3     0.700576  1.229510       0.712249  0.735761   0.835314       -0.371742   \n",
       "5     0.700576 -0.816633       0.712249 -1.710030   0.858691        1.550988   \n",
       "6    -0.706257  0.535753      -0.585346  0.485477  -1.377829       -0.587899   \n",
       "8     0.700576  1.671044      -0.661706 -0.900199   0.977022       -1.593445   \n",
       "...        ...       ...            ...       ...        ...             ...   \n",
       "7353  0.700576  0.824723      -1.065994 -0.502074  -1.314405        0.109824   \n",
       "7354 -0.706257  1.117867      -0.661706 -1.540070  -1.437810        1.196982   \n",
       "7355  0.700576  0.451463      -0.661706 -1.720507   0.714446        0.376100   \n",
       "7356  0.700576 -0.550014       1.607728 -0.132276  -1.005075        1.482633   \n",
       "7357  0.700576 -1.590864      -1.065994  1.060935   1.460677        1.083125   \n",
       "\n",
       "      Inventory Turnover  Covid Impact (Beta)  Tracking Error  \\\n",
       "0              -0.239606            -1.511376        1.003625   \n",
       "3              -0.393851            -0.292372        0.339809   \n",
       "5               1.605172            -0.292372       -0.309090   \n",
       "6               0.266320             1.695135       -1.487550   \n",
       "8              -1.677175            -0.292372        1.108045   \n",
       "...                  ...                  ...             ...   \n",
       "7353           -1.498250            -0.292372       -0.883403   \n",
       "7354            1.580492             1.695135        0.116050   \n",
       "7355           -0.165568            -0.292372        1.667441   \n",
       "7356           -0.313644            -0.292372        0.832077   \n",
       "7357            0.007187            -0.292372        0.265223   \n",
       "\n",
       "      Dollar Exchange Rate  Put-Call Ratio  P/B Ratio  \n",
       "0                -0.970585       -1.652062   1.597285  \n",
       "3                 1.199706        0.816391   0.226001  \n",
       "5                 1.199706        1.013867   0.191719  \n",
       "6                -0.970585       -0.960895   1.368738  \n",
       "8                 1.199706        1.359450   0.553586  \n",
       "...                    ...             ...        ...  \n",
       "7353             -0.970585        1.705033   0.477403  \n",
       "7354              1.199706        1.013867   1.037344  \n",
       "7355              1.199706        0.618914   0.096491  \n",
       "7356             -0.480140       -1.503954  -1.396685  \n",
       "7357             -0.970585        0.322700   0.957352  \n",
       "\n",
       "[6934 rows x 12 columns]"
      ]
     },
     "execution_count": 20,
     "metadata": {},
     "output_type": "execute_result"
    }
   ],
   "source": [
    "x_norm"
   ]
  },
  {
   "cell_type": "code",
   "execution_count": 21,
   "metadata": {},
   "outputs": [
    {
     "name": "stdout",
     "output_type": "stream",
     "text": [
      "[Materials, Energy, Information Tech, Healthcare, Materials, ..., Healthcare, Information Tech, Energy, Healthcare, Information Tech]\n",
      "Length: 2415\n",
      "Categories (5, object): [Energy, Healthcare, Information Tech, Materials, Real Estate]\n",
      "\n"
     ]
    }
   ],
   "source": [
    "print(pd.Categorical(df_test['Industry']),end=\"\\n\\n\")\n",
    "\n",
    "df_test['Industry'] = df_test['Industry'].astype('category')\n",
    "cat_columns = df_test.select_dtypes(['category']).columns\n",
    "df_test[cat_columns] = df_test[cat_columns].apply(lambda x: x.cat.codes)"
   ]
  },
  {
   "cell_type": "code",
   "execution_count": 22,
   "metadata": {},
   "outputs": [
    {
     "name": "stdout",
     "output_type": "stream",
     "text": [
      "(2415, 12)\n"
     ]
    }
   ],
   "source": [
    "#featurisation of test data and eliminating the unwanted columns\n",
    "x_actual_test = df_test[['Industry', 'VWAP', 'General Index', 'NAV',\n",
    "       'P/E Ratio', 'Volumes Traded', 'Inventory Turnover',\n",
    "       'Covid Impact (Beta)', 'Tracking Error', 'Dollar Exchange Rate',\n",
    "       'Put-Call Ratio', 'P/B Ratio']]\n",
    "print(x_actual_test.shape)"
   ]
  },
  {
   "cell_type": "code",
   "execution_count": 23,
   "metadata": {
    "scrolled": true
   },
   "outputs": [
    {
     "data": {
      "text/html": [
       "<div>\n",
       "<style scoped>\n",
       "    .dataframe tbody tr th:only-of-type {\n",
       "        vertical-align: middle;\n",
       "    }\n",
       "\n",
       "    .dataframe tbody tr th {\n",
       "        vertical-align: top;\n",
       "    }\n",
       "\n",
       "    .dataframe thead th {\n",
       "        text-align: right;\n",
       "    }\n",
       "</style>\n",
       "<table border=\"1\" class=\"dataframe\">\n",
       "  <thead>\n",
       "    <tr style=\"text-align: right;\">\n",
       "      <th></th>\n",
       "      <th>Industry</th>\n",
       "      <th>VWAP</th>\n",
       "      <th>General Index</th>\n",
       "      <th>NAV</th>\n",
       "      <th>P/E Ratio</th>\n",
       "      <th>Volumes Traded</th>\n",
       "      <th>Inventory Turnover</th>\n",
       "      <th>Covid Impact (Beta)</th>\n",
       "      <th>Tracking Error</th>\n",
       "      <th>Dollar Exchange Rate</th>\n",
       "      <th>Put-Call Ratio</th>\n",
       "      <th>P/B Ratio</th>\n",
       "    </tr>\n",
       "  </thead>\n",
       "  <tbody>\n",
       "    <tr>\n",
       "      <th>0</th>\n",
       "      <td>3</td>\n",
       "      <td>53.30</td>\n",
       "      <td>11270.15</td>\n",
       "      <td>44.59</td>\n",
       "      <td>185.09</td>\n",
       "      <td>12067855.0</td>\n",
       "      <td>2.78</td>\n",
       "      <td>0.03</td>\n",
       "      <td>0.0330</td>\n",
       "      <td>74.9</td>\n",
       "      <td>0.80</td>\n",
       "      <td>4.66</td>\n",
       "    </tr>\n",
       "    <tr>\n",
       "      <th>1</th>\n",
       "      <td>0</td>\n",
       "      <td>749.34</td>\n",
       "      <td>55722.00</td>\n",
       "      <td>74.20</td>\n",
       "      <td>34.01</td>\n",
       "      <td>6172474.0</td>\n",
       "      <td>6.78</td>\n",
       "      <td>0.11</td>\n",
       "      <td>0.0464</td>\n",
       "      <td>17.7</td>\n",
       "      <td>0.86</td>\n",
       "      <td>6.11</td>\n",
       "    </tr>\n",
       "    <tr>\n",
       "      <th>2</th>\n",
       "      <td>2</td>\n",
       "      <td>567.75</td>\n",
       "      <td>3351.28</td>\n",
       "      <td>88.41</td>\n",
       "      <td>177.40</td>\n",
       "      <td>17472488.0</td>\n",
       "      <td>4.36</td>\n",
       "      <td>0.23</td>\n",
       "      <td>0.0401</td>\n",
       "      <td>1.0</td>\n",
       "      <td>0.93</td>\n",
       "      <td>4.99</td>\n",
       "    </tr>\n",
       "    <tr>\n",
       "      <th>3</th>\n",
       "      <td>1</td>\n",
       "      <td>646.78</td>\n",
       "      <td>11270.15</td>\n",
       "      <td>79.36</td>\n",
       "      <td>105.44</td>\n",
       "      <td>15553159.0</td>\n",
       "      <td>2.77</td>\n",
       "      <td>0.78</td>\n",
       "      <td>0.0187</td>\n",
       "      <td>74.9</td>\n",
       "      <td>1.09</td>\n",
       "      <td>1.26</td>\n",
       "    </tr>\n",
       "    <tr>\n",
       "      <th>6</th>\n",
       "      <td>3</td>\n",
       "      <td>227.28</td>\n",
       "      <td>38182.08</td>\n",
       "      <td>38.50</td>\n",
       "      <td>193.01</td>\n",
       "      <td>4934899.0</td>\n",
       "      <td>4.91</td>\n",
       "      <td>0.03</td>\n",
       "      <td>0.0265</td>\n",
       "      <td>74.9</td>\n",
       "      <td>1.23</td>\n",
       "      <td>4.60</td>\n",
       "    </tr>\n",
       "  </tbody>\n",
       "</table>\n",
       "</div>"
      ],
      "text/plain": [
       "   Industry    VWAP  General Index    NAV  P/E Ratio  Volumes Traded  \\\n",
       "0         3   53.30       11270.15  44.59     185.09      12067855.0   \n",
       "1         0  749.34       55722.00  74.20      34.01       6172474.0   \n",
       "2         2  567.75        3351.28  88.41     177.40      17472488.0   \n",
       "3         1  646.78       11270.15  79.36     105.44      15553159.0   \n",
       "6         3  227.28       38182.08  38.50     193.01       4934899.0   \n",
       "\n",
       "   Inventory Turnover  Covid Impact (Beta)  Tracking Error  \\\n",
       "0                2.78                 0.03          0.0330   \n",
       "1                6.78                 0.11          0.0464   \n",
       "2                4.36                 0.23          0.0401   \n",
       "3                2.77                 0.78          0.0187   \n",
       "6                4.91                 0.03          0.0265   \n",
       "\n",
       "   Dollar Exchange Rate  Put-Call Ratio  P/B Ratio  \n",
       "0                  74.9            0.80       4.66  \n",
       "1                  17.7            0.86       6.11  \n",
       "2                   1.0            0.93       4.99  \n",
       "3                  74.9            1.09       1.26  \n",
       "6                  74.9            1.23       4.60  "
      ]
     },
     "execution_count": 23,
     "metadata": {},
     "output_type": "execute_result"
    }
   ],
   "source": [
    "x_actual_test.head()"
   ]
  },
  {
   "cell_type": "code",
   "execution_count": 24,
   "metadata": {},
   "outputs": [],
   "source": [
    "x_actual_stats = x_actual_test.describe()\n",
    "x_actual_stats= x_actual_stats.transpose()\n",
    "x_actual_stats\n",
    "\n",
    "x_actual_norm = (x_actual_test - x_actual_test.mean()) / x_actual_test.std()"
   ]
  },
  {
   "cell_type": "code",
   "execution_count": 25,
   "metadata": {},
   "outputs": [],
   "source": [
    "from sklearn.model_selection import train_test_split         \n",
    "X_train, X_test, y_train, y_test = train_test_split(x_norm, y_norm, test_size=0.2, random_state= 1)"
   ]
  },
  {
   "cell_type": "code",
   "execution_count": 26,
   "metadata": {},
   "outputs": [],
   "source": [
    "import tensorflow as tf\n",
    "\n",
    "from tensorflow import keras\n",
    "from tensorflow.keras import layers\n",
    "\n",
    "from tensorflow.keras.layers import Dense, Dropout\n",
    "from tensorflow.keras.callbacks import EarlyStopping, LambdaCallback\n",
    "\n",
    "def build_model():\n",
    "    model = keras.Sequential([\n",
    "    layers.Dense(10, activation='sigmoid', input_shape=(12,)),\n",
    "    layers.Dense(5, activation='sigmoid'),\n",
    "    layers.Dense(1, activation='relu')\n",
    "  ])\n",
    "\n",
    "    #Optimizer = tf.keras.optimizers.RMSprop(0.01)\n",
    "\n",
    "    model.compile(loss='mae',\n",
    "                 optimizer='adam',\n",
    "                 metrics = [\"mae\"])\n",
    "    return model"
   ]
  },
  {
   "cell_type": "code",
   "execution_count": 27,
   "metadata": {},
   "outputs": [],
   "source": [
    "#model = build_model()"
   ]
  },
  {
   "cell_type": "code",
   "execution_count": 28,
   "metadata": {},
   "outputs": [
    {
     "name": "stdout",
     "output_type": "stream",
     "text": [
      "Epoch 1/50\n",
      "174/174 [==============================] - 1s 4ms/step - loss: 0.8329 - mae: 0.8329 - val_loss: 0.8157 - val_mae: 0.8157\n",
      "Epoch 2/50\n",
      "174/174 [==============================] - 0s 2ms/step - loss: 0.8189 - mae: 0.8189 - val_loss: 0.8157 - val_mae: 0.8157\n",
      "Epoch 3/50\n",
      "174/174 [==============================] - 0s 3ms/step - loss: 0.8189 - mae: 0.8189 - val_loss: 0.8157 - val_mae: 0.8157\n",
      "Epoch 4/50\n",
      "174/174 [==============================] - 0s 2ms/step - loss: 0.8189 - mae: 0.8189 - val_loss: 0.8157 - val_mae: 0.8157\n",
      "Epoch 5/50\n",
      "174/174 [==============================] - 0s 2ms/step - loss: 0.8189 - mae: 0.8189 - val_loss: 0.8157 - val_mae: 0.8157\n",
      "Epoch 6/50\n",
      "174/174 [==============================] - 0s 2ms/step - loss: 0.8189 - mae: 0.8189 - val_loss: 0.8157 - val_mae: 0.8157\n",
      "Epoch 7/50\n",
      "174/174 [==============================] - 0s 2ms/step - loss: 0.8189 - mae: 0.8189 - val_loss: 0.8157 - val_mae: 0.8157\n",
      "Epoch 8/50\n",
      "174/174 [==============================] - 0s 2ms/step - loss: 0.8189 - mae: 0.8189 - val_loss: 0.8157 - val_mae: 0.8157\n",
      "Epoch 9/50\n",
      "174/174 [==============================] - 0s 2ms/step - loss: 0.8189 - mae: 0.8189 - val_loss: 0.8157 - val_mae: 0.8157\n",
      "Epoch 10/50\n",
      "174/174 [==============================] - 0s 2ms/step - loss: 0.8127 - mae: 0.8127 - val_loss: 0.7685 - val_mae: 0.7685\n",
      "Epoch 11/50\n",
      "174/174 [==============================] - 0s 2ms/step - loss: 0.6815 - mae: 0.6815 - val_loss: 0.5909 - val_mae: 0.5909\n",
      "Epoch 12/50\n",
      "174/174 [==============================] - 0s 2ms/step - loss: 0.5335 - mae: 0.5335 - val_loss: 0.5049 - val_mae: 0.5049\n",
      "Epoch 13/50\n",
      "174/174 [==============================] - 0s 2ms/step - loss: 0.4887 - mae: 0.4887 - val_loss: 0.4864 - val_mae: 0.4864\n",
      "Epoch 14/50\n",
      "174/174 [==============================] - 0s 2ms/step - loss: 0.4778 - mae: 0.4778 - val_loss: 0.4778 - val_mae: 0.4778\n",
      "Epoch 15/50\n",
      "174/174 [==============================] - 0s 2ms/step - loss: 0.4728 - mae: 0.4728 - val_loss: 0.4729 - val_mae: 0.4729\n",
      "Epoch 16/50\n",
      "174/174 [==============================] - 0s 2ms/step - loss: 0.4692 - mae: 0.4692 - val_loss: 0.4694 - val_mae: 0.4694\n",
      "Epoch 17/50\n",
      "174/174 [==============================] - 0s 2ms/step - loss: 0.4661 - mae: 0.4661 - val_loss: 0.4669 - val_mae: 0.4669\n",
      "Epoch 18/50\n",
      "174/174 [==============================] - 0s 2ms/step - loss: 0.4638 - mae: 0.4638 - val_loss: 0.4645 - val_mae: 0.4645\n",
      "Epoch 19/50\n",
      "174/174 [==============================] - 0s 2ms/step - loss: 0.4615 - mae: 0.4615 - val_loss: 0.4624 - val_mae: 0.4624\n",
      "Epoch 20/50\n",
      "174/174 [==============================] - 0s 2ms/step - loss: 0.4593 - mae: 0.4593 - val_loss: 0.4622 - val_mae: 0.4622\n",
      "Epoch 21/50\n",
      "174/174 [==============================] - 0s 2ms/step - loss: 0.4577 - mae: 0.4577 - val_loss: 0.4589 - val_mae: 0.4589\n",
      "Epoch 22/50\n",
      "174/174 [==============================] - 0s 2ms/step - loss: 0.4559 - mae: 0.4559 - val_loss: 0.4574 - val_mae: 0.4574\n",
      "Epoch 23/50\n",
      "174/174 [==============================] - 0s 2ms/step - loss: 0.4537 - mae: 0.4537 - val_loss: 0.4560 - val_mae: 0.4560\n",
      "Epoch 24/50\n",
      "174/174 [==============================] - 0s 2ms/step - loss: 0.4516 - mae: 0.4516 - val_loss: 0.4531 - val_mae: 0.4531\n",
      "Epoch 25/50\n",
      "174/174 [==============================] - 0s 2ms/step - loss: 0.4493 - mae: 0.4493 - val_loss: 0.4506 - val_mae: 0.4506\n",
      "Epoch 26/50\n",
      "174/174 [==============================] - 0s 2ms/step - loss: 0.4470 - mae: 0.4470 - val_loss: 0.4483 - val_mae: 0.4483\n",
      "Epoch 27/50\n",
      "174/174 [==============================] - 0s 2ms/step - loss: 0.4445 - mae: 0.4445 - val_loss: 0.4460 - val_mae: 0.4460\n",
      "Epoch 28/50\n",
      "174/174 [==============================] - 0s 2ms/step - loss: 0.4416 - mae: 0.4416 - val_loss: 0.4425 - val_mae: 0.4425\n",
      "Epoch 29/50\n",
      "174/174 [==============================] - 0s 2ms/step - loss: 0.4391 - mae: 0.4391 - val_loss: 0.4395 - val_mae: 0.4395\n",
      "Epoch 30/50\n",
      "174/174 [==============================] - 0s 2ms/step - loss: 0.4367 - mae: 0.4367 - val_loss: 0.4371 - val_mae: 0.4371\n",
      "Epoch 31/50\n",
      "174/174 [==============================] - 0s 2ms/step - loss: 0.4347 - mae: 0.4347 - val_loss: 0.4348 - val_mae: 0.4348\n",
      "Epoch 32/50\n",
      "174/174 [==============================] - 0s 2ms/step - loss: 0.4322 - mae: 0.4322 - val_loss: 0.4327 - val_mae: 0.4327\n",
      "Epoch 33/50\n",
      "174/174 [==============================] - 0s 2ms/step - loss: 0.4306 - mae: 0.4306 - val_loss: 0.4311 - val_mae: 0.4311\n",
      "Epoch 34/50\n",
      "174/174 [==============================] - 0s 2ms/step - loss: 0.4294 - mae: 0.4294 - val_loss: 0.4302 - val_mae: 0.4302\n",
      "Epoch 35/50\n",
      "174/174 [==============================] - 0s 2ms/step - loss: 0.4287 - mae: 0.4287 - val_loss: 0.4300 - val_mae: 0.4300\n",
      "Epoch 36/50\n",
      "174/174 [==============================] - 0s 2ms/step - loss: 0.4275 - mae: 0.4275 - val_loss: 0.4280 - val_mae: 0.4280\n",
      "Epoch 37/50\n",
      "174/174 [==============================] - 0s 2ms/step - loss: 0.4265 - mae: 0.4265 - val_loss: 0.4270 - val_mae: 0.4270\n",
      "Epoch 38/50\n",
      "174/174 [==============================] - 0s 2ms/step - loss: 0.4260 - mae: 0.4260 - val_loss: 0.4263 - val_mae: 0.4263\n",
      "Epoch 39/50\n",
      "174/174 [==============================] - 0s 2ms/step - loss: 0.4252 - mae: 0.4252 - val_loss: 0.4251 - val_mae: 0.4251\n",
      "Epoch 40/50\n",
      "174/174 [==============================] - 0s 2ms/step - loss: 0.4245 - mae: 0.4245 - val_loss: 0.4249 - val_mae: 0.4249\n",
      "Epoch 41/50\n",
      "174/174 [==============================] - 0s 2ms/step - loss: 0.4239 - mae: 0.4239 - val_loss: 0.4249 - val_mae: 0.4249\n",
      "Epoch 42/50\n",
      "174/174 [==============================] - 0s 2ms/step - loss: 0.4234 - mae: 0.4234 - val_loss: 0.4236 - val_mae: 0.4236\n",
      "Epoch 43/50\n",
      "174/174 [==============================] - 0s 2ms/step - loss: 0.4228 - mae: 0.4228 - val_loss: 0.4231 - val_mae: 0.4231\n",
      "Epoch 44/50\n",
      "174/174 [==============================] - 0s 2ms/step - loss: 0.4225 - mae: 0.4225 - val_loss: 0.4228 - val_mae: 0.4228\n",
      "Epoch 45/50\n",
      "174/174 [==============================] - 0s 2ms/step - loss: 0.4217 - mae: 0.4217 - val_loss: 0.4223 - val_mae: 0.4223\n",
      "Epoch 46/50\n",
      "174/174 [==============================] - 0s 2ms/step - loss: 0.4214 - mae: 0.4214 - val_loss: 0.4218 - val_mae: 0.4218\n",
      "Epoch 47/50\n",
      "174/174 [==============================] - 0s 2ms/step - loss: 0.4209 - mae: 0.4209 - val_loss: 0.4212 - val_mae: 0.4212\n",
      "Epoch 48/50\n",
      "174/174 [==============================] - 0s 2ms/step - loss: 0.4205 - mae: 0.4205 - val_loss: 0.4219 - val_mae: 0.4219\n",
      "Epoch 49/50\n",
      "174/174 [==============================] - 0s 2ms/step - loss: 0.4202 - mae: 0.4202 - val_loss: 0.4210 - val_mae: 0.4210\n",
      "Epoch 50/50\n",
      "174/174 [==============================] - 0s 2ms/step - loss: 0.4199 - mae: 0.4199 - val_loss: 0.4211 - val_mae: 0.4211\n"
     ]
    }
   ],
   "source": [
    "#history = model.fit(X_train, y_train, validation_data=(X_test, y_test), epochs=10, verbose = 1)\n",
    "#early_stopping = EarlyStopping(monitor='val_loss', patience = 10)\n",
    "\n",
    "model = build_model()\n",
    "\n",
    "preds_on_untrained = model.predict(X_test)\n",
    "\n",
    "history = model.fit(\n",
    "    X_train, y_train,\n",
    "    validation_data = (X_test, y_test),\n",
    "    epochs = 50,\n",
    "    #validation_steps=1,\n",
    "    #callbacks = [early_stopping]\n",
    ")"
   ]
  },
  {
   "cell_type": "code",
   "execution_count": 29,
   "metadata": {
    "scrolled": true
   },
   "outputs": [
    {
     "name": "stdout",
     "output_type": "stream",
     "text": [
      "44/44 [==============================] - 0s 1ms/step - loss: 0.4211 - mae: 0.4211\n",
      "Loss is :  [0.4211407005786896, 0.4211407005786896]\n"
     ]
    }
   ],
   "source": [
    "loss = model.evaluate(X_test, y_test)\n",
    "print(\"Loss is : \",loss)\n",
    "#print(\"Accuracy is : \",(accuracy)*100)"
   ]
  },
  {
   "cell_type": "code",
   "execution_count": 30,
   "metadata": {},
   "outputs": [
    {
     "data": {
      "text/plain": [
       "3683    1.891859\n",
       "5189    0.696932\n",
       "3863   -1.096079\n",
       "842     0.435970\n",
       "6176   -0.988387\n",
       "          ...   \n",
       "2498   -1.283021\n",
       "4889   -1.137819\n",
       "907    -0.906586\n",
       "6459    1.925571\n",
       "3145    1.719499\n",
       "Name: Stock Price, Length: 1387, dtype: float64"
      ]
     },
     "execution_count": 30,
     "metadata": {},
     "output_type": "execute_result"
    }
   ],
   "source": [
    "y_test"
   ]
  },
  {
   "cell_type": "code",
   "execution_count": 31,
   "metadata": {},
   "outputs": [],
   "source": [
    "y_t= list(y_test)"
   ]
  },
  {
   "cell_type": "code",
   "execution_count": 32,
   "metadata": {},
   "outputs": [],
   "source": [
    "tensor = model.predict(X_test)\n",
    "tensorfl = []\n",
    "actual_tf = []\n",
    "for i in range(len(tensor)):\n",
    "    temperory = convert_label_value(tensor[i])\n",
    "    tensorfl.append(temperory)\n",
    "    \n",
    "for j in range(len(y_t)):\n",
    "    temp = convert_label_value(y_t[j])\n",
    "    actual_tf.append(temp)"
   ]
  },
  {
   "cell_type": "code",
   "execution_count": 33,
   "metadata": {},
   "outputs": [
    {
     "data": {
      "text/plain": [
       "80.6659527472567"
      ]
     },
     "execution_count": 33,
     "metadata": {},
     "output_type": "execute_result"
    }
   ],
   "source": [
    "from sklearn.metrics import explained_variance_score\n",
    "sample = list(tensorfl[:1388])\n",
    "sample_label = list(actual_tf[:1387])\n",
    "score = explained_variance_score(sample_label,sample)*100\n",
    "score"
   ]
  },
  {
   "cell_type": "code",
   "execution_count": 34,
   "metadata": {},
   "outputs": [],
   "source": [
    "def plot_history(history):\n",
    "    loss_list = [s for s in history.history.keys() if 'loss' in s and 'val' not in s]\n",
    "    val_loss_list = [s for s in history.history.keys() if 'loss' in s and 'val' in s]\n",
    "    acc_list = [s for s in history.history.keys() if 'acc' in s and 'val' not in s]\n",
    "    val_acc_list = [s for s in history.history.keys() if 'acc' in s and 'val' in s]\n",
    "    \n",
    "    if len(loss_list) == 0:\n",
    "        print('Loss is missing in history')\n",
    "        return \n",
    "    \n",
    "    ## As loss always exists\n",
    "    epochs = range(1,len(history.history[loss_list[0]]) + 1)\n",
    "    \n",
    "    ## Loss\n",
    "    plt.figure(1)\n",
    "    for l in loss_list:\n",
    "        plt.plot(epochs, history.history[l], 'b', label='Training loss (' + str(str(format(history.history[l][-1],'.5f'))+')'))\n",
    "    for l in val_loss_list:\n",
    "        plt.plot(epochs, history.history[l], 'g', label='Validation loss (' + str(str(format(history.history[l][-1],'.5f'))+')'))\n",
    "    \n",
    "    plt.title('Loss')\n",
    "    plt.xlabel('Epochs')\n",
    "    plt.ylabel('Loss')\n",
    "    plt.legend()\n",
    "    "
   ]
  },
  {
   "cell_type": "code",
   "execution_count": 35,
   "metadata": {},
   "outputs": [
    {
     "data": {
      "image/png": "[encoded data removed]",
      "text/plain": [
       "<Figure size 432x288 with 1 Axes>"
      ]
     },
     "metadata": {
      "needs_background": "light"
     },
     "output_type": "display_data"
    }
   ],
   "source": [
    "plot_history(history)"
   ]
  },
  {
   "cell_type": "code",
   "execution_count": 450,
   "metadata": {},
   "outputs": [
    {
     "data": {
      "image/png": "[encoded data removed]",
      "text/plain": [
       "<Figure size 576x396 with 1 Axes>"
      ]
     },
     "metadata": {},
     "output_type": "display_data"
    }
   ],
   "source": [
    "plot_history(history)"
   ]
  },
  {
   "cell_type": "code",
   "execution_count": 36,
   "metadata": {},
   "outputs": [],
   "source": [
    "def plot_predictions(preds, y_test):\n",
    "    plt.figure(figsize=(8, 8))\n",
    "    plt.plot(preds, y_test, 'ro')\n",
    "    plt.xlabel('Preds')\n",
    "    plt.ylabel('Labels')\n",
    "    plt.xlim([-0.5, 0.5])\n",
    "    plt.ylim([-0.5, 0.5])\n",
    "    plt.plot([-0.5, 0.5], [-0.5, 0.5], 'b--')\n",
    "    plt.show()\n",
    "    return\n",
    "\n",
    "def compare_predictions(preds1, preds2, y_test):\n",
    "    plt.figure(figsize=(8, 8))\n",
    "    plt.plot(preds1, y_test, 'ro', label='Untrained Model')\n",
    "    plt.plot(preds2, y_test, 'go', label='Trained Model')\n",
    "    plt.xlabel('Preds')\n",
    "    plt.ylabel('Labels')\n",
    "    \n",
    "    y_min = min(min(y_test), min(preds1), min(preds2))\n",
    "    y_max = max(max(y_test), max(preds1), max(preds2))\n",
    "    \n",
    "    plt.xlim([y_min, y_max])\n",
    "    plt.ylim([y_min, y_max])\n",
    "    plt.plot([y_min, y_max], [y_min, y_max], 'b--')\n",
    "    plt.legend()\n",
    "    plt.show()\n",
    "    return\n"
   ]
  },
  {
   "cell_type": "code",
   "execution_count": 37,
   "metadata": {},
   "outputs": [
    {
     "data": {
      "image/png": "[encoded data removed]",
      "text/plain": [
       "<Figure size 576x576 with 1 Axes>"
      ]
     },
     "metadata": {
      "needs_background": "light"
     },
     "output_type": "display_data"
    }
   ],
   "source": [
    "preds_on_trained = model.predict(X_test)\n",
    "\n",
    "compare_predictions(preds_on_untrained, preds_on_trained, y_test)"
   ]
  },
  {
   "cell_type": "code",
   "execution_count": 452,
   "metadata": {},
   "outputs": [
    {
     "data": {
      "image/png": "[encoded data removed]",
      "text/plain": [
       "<Figure size 576x576 with 1 Axes>"
      ]
     },
     "metadata": {},
     "output_type": "display_data"
    }
   ],
   "source": [
    "preds_on_trained = model.predict(X_test)\n",
    "\n",
    "compare_predictions(preds_on_untrained, preds_on_trained, y_test)"
   ]
  },
  {
   "cell_type": "code",
   "execution_count": 38,
   "metadata": {},
   "outputs": [
    {
     "data": {
      "text/plain": [
       "array([[0.5942301],\n",
       "       [0.       ],\n",
       "       [2.3680222],\n",
       "       ...,\n",
       "       [0.       ],\n",
       "       [0.       ],\n",
       "       [1.7813871]], dtype=float32)"
      ]
     },
     "execution_count": 38,
     "metadata": {},
     "output_type": "execute_result"
    }
   ],
   "source": [
    "ans_tf = model.predict(x_actual_norm)\n",
    "ans_tf"
   ]
  },
  {
   "cell_type": "code",
   "execution_count": 39,
   "metadata": {},
   "outputs": [],
   "source": [
    "tf_ans = []\n",
    "for i in range(len(ans_tf)):\n",
    "    temp = convert_label_value(ans_tf[i])\n",
    "    tf_ans.append(temp)"
   ]
  },
  {
   "cell_type": "code",
   "execution_count": 40,
   "metadata": {},
   "outputs": [
    {
     "data": {
      "text/plain": [
       "[820, 569, 1569, 829, 752, 1414, 569, 569, 1744, 569]"
      ]
     },
     "execution_count": 40,
     "metadata": {},
     "output_type": "execute_result"
    }
   ],
   "source": [
    "tf_ans[:10]"
   ]
  },
  {
   "cell_type": "code",
   "execution_count": 41,
   "metadata": {},
   "outputs": [],
   "source": [
    "#importing libraries\n",
    "from sklearn.model_selection import train_test_split\n",
    "from sklearn.linear_model import LinearRegression\n",
    "from sklearn import metrics\n",
    "from sklearn.metrics import mean_squared_error\n",
    "from sklearn.metrics import r2_score\n",
    "#import yellowbrick "
   ]
  },
  {
   "cell_type": "code",
   "execution_count": 42,
   "metadata": {},
   "outputs": [
    {
     "name": "stdout",
     "output_type": "stream",
     "text": [
      "(6934, 12)\n",
      "(6934,)\n"
     ]
    }
   ],
   "source": [
    "#featurisation\n",
    "x = df[['Industry','VWAP', 'General Index', 'NAV',\n",
    "       'P/E Ratio', 'Volumes Traded', 'Inventory Turnover',\n",
    "       'Covid Impact (Beta)', 'Tracking Error', 'Dollar Exchange Rate',\n",
    "       'Put-Call Ratio', 'P/B Ratio']]\n",
    "y = df['Stock Price']\n",
    "#np.reshape(y,2103,1)\n",
    "print(x.shape)\n",
    "print(y.shape)"
   ]
  },
  {
   "cell_type": "code",
   "execution_count": 43,
   "metadata": {},
   "outputs": [
    {
     "name": "stdout",
     "output_type": "stream",
     "text": [
      "R^2 : 0.8850773853455763\n"
     ]
    }
   ],
   "source": [
    "#training and evaluating the model with VALIDATION SPLIT OF 25%\n",
    "x_train,x_test,y_train,y_test = train_test_split(x,y,test_size = 0.25,random_state = 1)\n",
    "model_linear = LinearRegression()\n",
    "model_linear.fit(x_train,y_train)\n",
    "y_pred = model_linear.predict(x_test)\n",
    "#print(\"RMSE :\",np.sqrt(mean_squared_error(y_test,y_pred)))\n",
    "print(\"R^2 :\" , r2_score(y_test,y_pred))"
   ]
  },
  {
   "cell_type": "code",
   "execution_count": 44,
   "metadata": {},
   "outputs": [
    {
     "data": {
      "image/png": "[encoded data removed]",
      "text/plain": [
       "<Figure size 576x396 with 1 Axes>"
      ]
     },
     "metadata": {},
     "output_type": "display_data"
    }
   ],
   "source": [
    "from yellowbrick.regressor import PredictionError, ResidualsPlot\n",
    "visualizer = PredictionError(model_linear)\n",
    "\n",
    "visualizer.fit(x_train, y_train)  # Fit the training data to the visualizer\n",
    "visualizer.score(x_test, y_test)  # Evaluate the model on the test data\n",
    "visualizer.poof();"
   ]
  },
  {
   "cell_type": "code",
   "execution_count": 45,
   "metadata": {},
   "outputs": [
    {
     "data": {
      "text/html": [
       "<div>\n",
       "<style scoped>\n",
       "    .dataframe tbody tr th:only-of-type {\n",
       "        vertical-align: middle;\n",
       "    }\n",
       "\n",
       "    .dataframe tbody tr th {\n",
       "        vertical-align: top;\n",
       "    }\n",
       "\n",
       "    .dataframe thead th {\n",
       "        text-align: right;\n",
       "    }\n",
       "</style>\n",
       "<table border=\"1\" class=\"dataframe\">\n",
       "  <thead>\n",
       "    <tr style=\"text-align: right;\">\n",
       "      <th></th>\n",
       "      <th>Industry</th>\n",
       "      <th>VWAP</th>\n",
       "      <th>General Index</th>\n",
       "      <th>NAV</th>\n",
       "      <th>P/E Ratio</th>\n",
       "      <th>Volumes Traded</th>\n",
       "      <th>Inventory Turnover</th>\n",
       "      <th>Covid Impact (Beta)</th>\n",
       "      <th>Tracking Error</th>\n",
       "      <th>Dollar Exchange Rate</th>\n",
       "      <th>Put-Call Ratio</th>\n",
       "      <th>P/B Ratio</th>\n",
       "    </tr>\n",
       "  </thead>\n",
       "  <tbody>\n",
       "    <tr>\n",
       "      <th>0</th>\n",
       "      <td>3</td>\n",
       "      <td>53.30</td>\n",
       "      <td>11270.15</td>\n",
       "      <td>44.59</td>\n",
       "      <td>185.09</td>\n",
       "      <td>12067855.0</td>\n",
       "      <td>2.78</td>\n",
       "      <td>0.03</td>\n",
       "      <td>0.0330</td>\n",
       "      <td>74.9</td>\n",
       "      <td>0.80</td>\n",
       "      <td>4.66</td>\n",
       "    </tr>\n",
       "    <tr>\n",
       "      <th>1</th>\n",
       "      <td>0</td>\n",
       "      <td>749.34</td>\n",
       "      <td>55722.00</td>\n",
       "      <td>74.20</td>\n",
       "      <td>34.01</td>\n",
       "      <td>6172474.0</td>\n",
       "      <td>6.78</td>\n",
       "      <td>0.11</td>\n",
       "      <td>0.0464</td>\n",
       "      <td>17.7</td>\n",
       "      <td>0.86</td>\n",
       "      <td>6.11</td>\n",
       "    </tr>\n",
       "    <tr>\n",
       "      <th>2</th>\n",
       "      <td>2</td>\n",
       "      <td>567.75</td>\n",
       "      <td>3351.28</td>\n",
       "      <td>88.41</td>\n",
       "      <td>177.40</td>\n",
       "      <td>17472488.0</td>\n",
       "      <td>4.36</td>\n",
       "      <td>0.23</td>\n",
       "      <td>0.0401</td>\n",
       "      <td>1.0</td>\n",
       "      <td>0.93</td>\n",
       "      <td>4.99</td>\n",
       "    </tr>\n",
       "    <tr>\n",
       "      <th>3</th>\n",
       "      <td>1</td>\n",
       "      <td>646.78</td>\n",
       "      <td>11270.15</td>\n",
       "      <td>79.36</td>\n",
       "      <td>105.44</td>\n",
       "      <td>15553159.0</td>\n",
       "      <td>2.77</td>\n",
       "      <td>0.78</td>\n",
       "      <td>0.0187</td>\n",
       "      <td>74.9</td>\n",
       "      <td>1.09</td>\n",
       "      <td>1.26</td>\n",
       "    </tr>\n",
       "    <tr>\n",
       "      <th>6</th>\n",
       "      <td>3</td>\n",
       "      <td>227.28</td>\n",
       "      <td>38182.08</td>\n",
       "      <td>38.50</td>\n",
       "      <td>193.01</td>\n",
       "      <td>4934899.0</td>\n",
       "      <td>4.91</td>\n",
       "      <td>0.03</td>\n",
       "      <td>0.0265</td>\n",
       "      <td>74.9</td>\n",
       "      <td>1.23</td>\n",
       "      <td>4.60</td>\n",
       "    </tr>\n",
       "  </tbody>\n",
       "</table>\n",
       "</div>"
      ],
      "text/plain": [
       "   Industry    VWAP  General Index    NAV  P/E Ratio  Volumes Traded  \\\n",
       "0         3   53.30       11270.15  44.59     185.09      12067855.0   \n",
       "1         0  749.34       55722.00  74.20      34.01       6172474.0   \n",
       "2         2  567.75        3351.28  88.41     177.40      17472488.0   \n",
       "3         1  646.78       11270.15  79.36     105.44      15553159.0   \n",
       "6         3  227.28       38182.08  38.50     193.01       4934899.0   \n",
       "\n",
       "   Inventory Turnover  Covid Impact (Beta)  Tracking Error  \\\n",
       "0                2.78                 0.03          0.0330   \n",
       "1                6.78                 0.11          0.0464   \n",
       "2                4.36                 0.23          0.0401   \n",
       "3                2.77                 0.78          0.0187   \n",
       "6                4.91                 0.03          0.0265   \n",
       "\n",
       "   Dollar Exchange Rate  Put-Call Ratio  P/B Ratio  \n",
       "0                  74.9            0.80       4.66  \n",
       "1                  17.7            0.86       6.11  \n",
       "2                   1.0            0.93       4.99  \n",
       "3                  74.9            1.09       1.26  \n",
       "6                  74.9            1.23       4.60  "
      ]
     },
     "execution_count": 45,
     "metadata": {},
     "output_type": "execute_result"
    }
   ],
   "source": [
    "x_actual_test.head()"
   ]
  },
  {
   "cell_type": "code",
   "execution_count": 46,
   "metadata": {},
   "outputs": [],
   "source": [
    "#LINEAR REGRESSION PREDICTION\n",
    "y_linear_actual_pred = model_linear.predict(x_actual_test)"
   ]
  },
  {
   "cell_type": "code",
   "execution_count": 47,
   "metadata": {},
   "outputs": [
    {
     "data": {
      "text/plain": [
       "array([ 862.47645798,  414.79836089, 1309.44416101, ...,  186.62937809,\n",
       "        587.26500536, 1162.33573545])"
      ]
     },
     "execution_count": 47,
     "metadata": {},
     "output_type": "execute_result"
    }
   ],
   "source": [
    "y_linear_actual_pred"
   ]
  },
  {
   "cell_type": "code",
   "execution_count": 48,
   "metadata": {},
   "outputs": [
    {
     "data": {
      "text/plain": [
       "array([ 841.23822899,  491.89918045, 1439.22208051, ...,  377.81468905,\n",
       "        578.13250268, 1242.16786772])"
      ]
     },
     "execution_count": 48,
     "metadata": {},
     "output_type": "execute_result"
    }
   ],
   "source": [
    "#ensemble\n",
    "#averaging\n",
    "final_pred=(y_linear_actual_pred+tf_ans)/2\n",
    "final_pred"
   ]
  },
  {
   "cell_type": "code",
   "execution_count": 49,
   "metadata": {},
   "outputs": [
    {
     "data": {
      "text/plain": [
       "839.481084016131"
      ]
     },
     "execution_count": 49,
     "metadata": {},
     "output_type": "execute_result"
    }
   ],
   "source": [
    "#sample of linear regression prediction\n",
    "y_linear_actual_pred[70]"
   ]
  },
  {
   "cell_type": "code",
   "execution_count": 50,
   "metadata": {},
   "outputs": [
    {
     "data": {
      "text/plain": [
       "889"
      ]
     },
     "execution_count": 50,
     "metadata": {},
     "output_type": "execute_result"
    }
   ],
   "source": [
    "#sample of tensorflow prediction\n",
    "tf_ans[70]"
   ]
  }
 ],
 "metadata": {
  "kernelspec": {
   "display_name": "Python 3",
   "language": "python",
   "name": "python3"
  },
  "language_info": {
   "codemirror_mode": {
    "name": "ipython",
    "version": 3
   },
   "file_extension": ".py",
   "mimetype": "text/x-python",
   "name": "python",
   "nbconvert_exporter": "python",
   "pygments_lexer": "ipython3",
   "version": "3.8.3"
  }
 },
 "nbformat": 4,
 "nbformat_minor": 4
}
